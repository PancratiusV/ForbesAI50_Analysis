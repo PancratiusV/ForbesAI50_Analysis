{
 "cells": [
  {
   "cell_type": "code",
   "execution_count": 1,
   "metadata": {},
   "outputs": [],
   "source": [
    "import pandas as pd"
   ]
  },
  {
   "cell_type": "code",
   "execution_count": 2,
   "metadata": {},
   "outputs": [],
   "source": [
    "df = pd.read_csv('AI50 2024.csv')"
   ]
  },
  {
   "cell_type": "code",
   "execution_count": 3,
   "metadata": {},
   "outputs": [
    {
     "data": {
      "text/html": [
       "<div>\n",
       "<style scoped>\n",
       "    .dataframe tbody tr th:only-of-type {\n",
       "        vertical-align: middle;\n",
       "    }\n",
       "\n",
       "    .dataframe tbody tr th {\n",
       "        vertical-align: top;\n",
       "    }\n",
       "\n",
       "    .dataframe thead th {\n",
       "        text-align: right;\n",
       "    }\n",
       "</style>\n",
       "<table border=\"1\" class=\"dataframe\">\n",
       "  <thead>\n",
       "    <tr style=\"text-align: right;\">\n",
       "      <th></th>\n",
       "      <th>NAME</th>\n",
       "      <th>WHAT IT DOES</th>\n",
       "      <th>FUNDING</th>\n",
       "      <th>YEAR FOUNDED</th>\n",
       "      <th>HEADQUARTERS</th>\n",
       "    </tr>\n",
       "  </thead>\n",
       "  <tbody>\n",
       "    <tr>\n",
       "      <th>0</th>\n",
       "      <td>Abridge</td>\n",
       "      <td>Medical conversation documentation</td>\n",
       "      <td>$213 M</td>\n",
       "      <td>2018</td>\n",
       "      <td>Pittsburgh, Pennsylvania, United States</td>\n",
       "    </tr>\n",
       "    <tr>\n",
       "      <th>1</th>\n",
       "      <td>Adept</td>\n",
       "      <td>AI model developer</td>\n",
       "      <td>$415 M</td>\n",
       "      <td>2022</td>\n",
       "      <td>San Francisco, California, United States</td>\n",
       "    </tr>\n",
       "    <tr>\n",
       "      <th>2</th>\n",
       "      <td>Anduril Industries</td>\n",
       "      <td>Defense software and hardware</td>\n",
       "      <td>$2.8 B</td>\n",
       "      <td>2017</td>\n",
       "      <td>Costa Mesa, California, United States</td>\n",
       "    </tr>\n",
       "    <tr>\n",
       "      <th>3</th>\n",
       "      <td>Anthropic</td>\n",
       "      <td>AI model developer</td>\n",
       "      <td>$7.7 B</td>\n",
       "      <td>2020</td>\n",
       "      <td>San Francisco, California, United States</td>\n",
       "    </tr>\n",
       "    <tr>\n",
       "      <th>4</th>\n",
       "      <td>Anyscale</td>\n",
       "      <td>AI app deployment software</td>\n",
       "      <td>$259 M</td>\n",
       "      <td>2019</td>\n",
       "      <td>San Francisco, California, United States</td>\n",
       "    </tr>\n",
       "  </tbody>\n",
       "</table>\n",
       "</div>"
      ],
      "text/plain": [
       "                 NAME                        WHAT IT DOES FUNDING   \\\n",
       "0             Abridge  Medical conversation documentation   $213 M   \n",
       "1               Adept                  AI model developer   $415 M   \n",
       "2  Anduril Industries       Defense software and hardware   $2.8 B   \n",
       "3           Anthropic                  AI model developer   $7.7 B   \n",
       "4            Anyscale          AI app deployment software   $259 M   \n",
       "\n",
       "   YEAR FOUNDED                              HEADQUARTERS  \n",
       "0          2018   Pittsburgh, Pennsylvania, United States  \n",
       "1          2022  San Francisco, California, United States  \n",
       "2          2017     Costa Mesa, California, United States  \n",
       "3          2020  San Francisco, California, United States  \n",
       "4          2019  San Francisco, California, United States  "
      ]
     },
     "execution_count": 3,
     "metadata": {},
     "output_type": "execute_result"
    }
   ],
   "source": [
    "df.head()"
   ]
  },
  {
   "cell_type": "code",
   "execution_count": 4,
   "metadata": {},
   "outputs": [
    {
     "data": {
      "text/plain": [
       "0"
      ]
     },
     "execution_count": 4,
     "metadata": {},
     "output_type": "execute_result"
    }
   ],
   "source": [
    "df.duplicated().sum()"
   ]
  },
  {
   "cell_type": "code",
   "execution_count": 5,
   "metadata": {},
   "outputs": [
    {
     "name": "stdout",
     "output_type": "stream",
     "text": [
      "<class 'pandas.core.frame.DataFrame'>\n",
      "RangeIndex: 50 entries, 0 to 49\n",
      "Data columns (total 5 columns):\n",
      " #   Column        Non-Null Count  Dtype \n",
      "---  ------        --------------  ----- \n",
      " 0   NAME          50 non-null     object\n",
      " 1   WHAT IT DOES  50 non-null     object\n",
      " 2   FUNDING       50 non-null     object\n",
      " 3   YEAR FOUNDED  50 non-null     int64 \n",
      " 4   HEADQUARTERS  50 non-null     object\n",
      "dtypes: int64(1), object(4)\n",
      "memory usage: 2.1+ KB\n"
     ]
    }
   ],
   "source": [
    "df.info()"
   ]
  },
  {
   "cell_type": "code",
   "execution_count": 6,
   "metadata": {},
   "outputs": [
    {
     "data": {
      "text/plain": [
       "Index(['NAME', 'WHAT IT DOES', 'FUNDING ', 'YEAR FOUNDED', 'HEADQUARTERS'], dtype='object')"
      ]
     },
     "execution_count": 6,
     "metadata": {},
     "output_type": "execute_result"
    }
   ],
   "source": [
    "df.columns"
   ]
  },
  {
   "cell_type": "code",
   "execution_count": 7,
   "metadata": {},
   "outputs": [],
   "source": [
    "df.columns = df.columns.str.strip()"
   ]
  },
  {
   "cell_type": "code",
   "execution_count": 8,
   "metadata": {},
   "outputs": [
    {
     "data": {
      "text/plain": [
       "array(['$213 M', '$415 M', '$2.8 B', '$7.7 B', '$259 M', '$115 M',\n",
       "       '$60 M', '$720 M', '$193 M', '$30 M', '$93 M', '$445 M', '$33 M',\n",
       "       '$152 M', '$4 B', '$100 M', '$101 M', '$754 M', '$360 M', '$106 M',\n",
       "       '$30 M', '$395 M', '$643 M', '$37 M', '$35 M', '$31 M', '$0 M',\n",
       "       '$528 M', '$330 M', '$11.3 B', '$304 M', '$102 M', '$64 M',\n",
       "       '$55 M', '$138 M', '$60 M', '$10 M', '$237 M', '$82 M', '$600 M',\n",
       "       '$110 M', '$157 M', '$229 M', '$81 M', '$65 M', '$65 M', '$87 M',\n",
       "       '$84 M', '$68 M', '$126 M'], dtype=object)"
      ]
     },
     "execution_count": 8,
     "metadata": {},
     "output_type": "execute_result"
    }
   ],
   "source": [
    "df[\"FUNDING\"].values"
   ]
  },
  {
   "cell_type": "code",
   "execution_count": 9,
   "metadata": {},
   "outputs": [],
   "source": [
    "df[\"FUNDING\"] = df[\"FUNDING\"].str.strip(\"$\")\n",
    "\n",
    "def conversion(value):\n",
    "    if \"M\" in value:\n",
    "        return float(value.replace(\"M\",\"\")) * 10**6\n",
    "    elif \"B\" in value:\n",
    "        return float(value.replace(\"B\",\"\")) * 10**9\n",
    "    \n",
    "\n",
    "df[\"FUNDING\"] = df[\"FUNDING\"].apply(conversion)"
   ]
  },
  {
   "cell_type": "code",
   "execution_count": 10,
   "metadata": {},
   "outputs": [
    {
     "data": {
      "text/plain": [
       "NAME             object\n",
       "WHAT IT DOES     object\n",
       "FUNDING         float64\n",
       "YEAR FOUNDED      int64\n",
       "HEADQUARTERS     object\n",
       "dtype: object"
      ]
     },
     "execution_count": 10,
     "metadata": {},
     "output_type": "execute_result"
    }
   ],
   "source": [
    "df.dtypes"
   ]
  },
  {
   "cell_type": "code",
   "execution_count": 11,
   "metadata": {},
   "outputs": [
    {
     "data": {
      "text/html": [
       "<div>\n",
       "<style scoped>\n",
       "    .dataframe tbody tr th:only-of-type {\n",
       "        vertical-align: middle;\n",
       "    }\n",
       "\n",
       "    .dataframe tbody tr th {\n",
       "        vertical-align: top;\n",
       "    }\n",
       "\n",
       "    .dataframe thead th {\n",
       "        text-align: right;\n",
       "    }\n",
       "</style>\n",
       "<table border=\"1\" class=\"dataframe\">\n",
       "  <thead>\n",
       "    <tr style=\"text-align: right;\">\n",
       "      <th></th>\n",
       "      <th>NAME</th>\n",
       "      <th>WHAT IT DOES</th>\n",
       "      <th>FUNDING</th>\n",
       "      <th>YEAR FOUNDED</th>\n",
       "      <th>HEADQUARTERS</th>\n",
       "    </tr>\n",
       "  </thead>\n",
       "  <tbody>\n",
       "    <tr>\n",
       "      <th>0</th>\n",
       "      <td>Abridge</td>\n",
       "      <td>Medical conversation documentation</td>\n",
       "      <td>2.130000e+08</td>\n",
       "      <td>2018</td>\n",
       "      <td>Pittsburgh, Pennsylvania, United States</td>\n",
       "    </tr>\n",
       "    <tr>\n",
       "      <th>1</th>\n",
       "      <td>Adept</td>\n",
       "      <td>AI model developer</td>\n",
       "      <td>4.150000e+08</td>\n",
       "      <td>2022</td>\n",
       "      <td>San Francisco, California, United States</td>\n",
       "    </tr>\n",
       "    <tr>\n",
       "      <th>2</th>\n",
       "      <td>Anduril Industries</td>\n",
       "      <td>Defense software and hardware</td>\n",
       "      <td>2.800000e+09</td>\n",
       "      <td>2017</td>\n",
       "      <td>Costa Mesa, California, United States</td>\n",
       "    </tr>\n",
       "    <tr>\n",
       "      <th>3</th>\n",
       "      <td>Anthropic</td>\n",
       "      <td>AI model developer</td>\n",
       "      <td>7.700000e+09</td>\n",
       "      <td>2020</td>\n",
       "      <td>San Francisco, California, United States</td>\n",
       "    </tr>\n",
       "    <tr>\n",
       "      <th>4</th>\n",
       "      <td>Anyscale</td>\n",
       "      <td>AI app deployment software</td>\n",
       "      <td>2.590000e+08</td>\n",
       "      <td>2019</td>\n",
       "      <td>San Francisco, California, United States</td>\n",
       "    </tr>\n",
       "  </tbody>\n",
       "</table>\n",
       "</div>"
      ],
      "text/plain": [
       "                 NAME                        WHAT IT DOES       FUNDING  \\\n",
       "0             Abridge  Medical conversation documentation  2.130000e+08   \n",
       "1               Adept                  AI model developer  4.150000e+08   \n",
       "2  Anduril Industries       Defense software and hardware  2.800000e+09   \n",
       "3           Anthropic                  AI model developer  7.700000e+09   \n",
       "4            Anyscale          AI app deployment software  2.590000e+08   \n",
       "\n",
       "   YEAR FOUNDED                              HEADQUARTERS  \n",
       "0          2018   Pittsburgh, Pennsylvania, United States  \n",
       "1          2022  San Francisco, California, United States  \n",
       "2          2017     Costa Mesa, California, United States  \n",
       "3          2020  San Francisco, California, United States  \n",
       "4          2019  San Francisco, California, United States  "
      ]
     },
     "execution_count": 11,
     "metadata": {},
     "output_type": "execute_result"
    }
   ],
   "source": [
    "df.head()"
   ]
  },
  {
   "cell_type": "code",
   "execution_count": 12,
   "metadata": {},
   "outputs": [],
   "source": [
    "pd.options.display.float_format = '{:.0f}'.format"
   ]
  },
  {
   "cell_type": "code",
   "execution_count": 13,
   "metadata": {},
   "outputs": [
    {
     "data": {
      "text/html": [
       "<div>\n",
       "<style scoped>\n",
       "    .dataframe tbody tr th:only-of-type {\n",
       "        vertical-align: middle;\n",
       "    }\n",
       "\n",
       "    .dataframe tbody tr th {\n",
       "        vertical-align: top;\n",
       "    }\n",
       "\n",
       "    .dataframe thead th {\n",
       "        text-align: right;\n",
       "    }\n",
       "</style>\n",
       "<table border=\"1\" class=\"dataframe\">\n",
       "  <thead>\n",
       "    <tr style=\"text-align: right;\">\n",
       "      <th></th>\n",
       "      <th>NAME</th>\n",
       "      <th>WHAT IT DOES</th>\n",
       "      <th>FUNDING</th>\n",
       "      <th>YEAR FOUNDED</th>\n",
       "      <th>HEADQUARTERS</th>\n",
       "    </tr>\n",
       "  </thead>\n",
       "  <tbody>\n",
       "    <tr>\n",
       "      <th>0</th>\n",
       "      <td>Abridge</td>\n",
       "      <td>Medical conversation documentation</td>\n",
       "      <td>213000000</td>\n",
       "      <td>2018</td>\n",
       "      <td>Pittsburgh, Pennsylvania, United States</td>\n",
       "    </tr>\n",
       "    <tr>\n",
       "      <th>1</th>\n",
       "      <td>Adept</td>\n",
       "      <td>AI model developer</td>\n",
       "      <td>415000000</td>\n",
       "      <td>2022</td>\n",
       "      <td>San Francisco, California, United States</td>\n",
       "    </tr>\n",
       "    <tr>\n",
       "      <th>2</th>\n",
       "      <td>Anduril Industries</td>\n",
       "      <td>Defense software and hardware</td>\n",
       "      <td>2800000000</td>\n",
       "      <td>2017</td>\n",
       "      <td>Costa Mesa, California, United States</td>\n",
       "    </tr>\n",
       "    <tr>\n",
       "      <th>3</th>\n",
       "      <td>Anthropic</td>\n",
       "      <td>AI model developer</td>\n",
       "      <td>7700000000</td>\n",
       "      <td>2020</td>\n",
       "      <td>San Francisco, California, United States</td>\n",
       "    </tr>\n",
       "    <tr>\n",
       "      <th>4</th>\n",
       "      <td>Anyscale</td>\n",
       "      <td>AI app deployment software</td>\n",
       "      <td>259000000</td>\n",
       "      <td>2019</td>\n",
       "      <td>San Francisco, California, United States</td>\n",
       "    </tr>\n",
       "  </tbody>\n",
       "</table>\n",
       "</div>"
      ],
      "text/plain": [
       "                 NAME                        WHAT IT DOES    FUNDING  \\\n",
       "0             Abridge  Medical conversation documentation  213000000   \n",
       "1               Adept                  AI model developer  415000000   \n",
       "2  Anduril Industries       Defense software and hardware 2800000000   \n",
       "3           Anthropic                  AI model developer 7700000000   \n",
       "4            Anyscale          AI app deployment software  259000000   \n",
       "\n",
       "   YEAR FOUNDED                              HEADQUARTERS  \n",
       "0          2018   Pittsburgh, Pennsylvania, United States  \n",
       "1          2022  San Francisco, California, United States  \n",
       "2          2017     Costa Mesa, California, United States  \n",
       "3          2020  San Francisco, California, United States  \n",
       "4          2019  San Francisco, California, United States  "
      ]
     },
     "execution_count": 13,
     "metadata": {},
     "output_type": "execute_result"
    }
   ],
   "source": [
    "df.head()"
   ]
  },
  {
   "cell_type": "code",
   "execution_count": 14,
   "metadata": {},
   "outputs": [
    {
     "data": {
      "text/plain": [
       "array(['Pittsburgh, Pennsylvania, United States',\n",
       "       'San Francisco, California, United States',\n",
       "       'Costa Mesa, California, United States',\n",
       "       'Sunnyvale, California, United States',\n",
       "       'Menlo Park, California, United States',\n",
       "       'Mountain View, California, United States',\n",
       "       'Toronto, Ontario, Canada', 'Amsterdam, Netherlands',\n",
       "       'Palo Alto, California, United States', 'Cologne, Germany',\n",
       "       'London, United Kingdom', 'New York, New York, United States',\n",
       "       'Sydney, Australia', 'Paris, France', 'Stockholm, Sweden',\n",
       "       'Atlanta, Georgia, United States',\n",
       "       'Sacramento, California, United States'], dtype=object)"
      ]
     },
     "execution_count": 14,
     "metadata": {},
     "output_type": "execute_result"
    }
   ],
   "source": [
    "df[\"HEADQUARTERS\"].unique()"
   ]
  },
  {
   "cell_type": "code",
   "execution_count": 15,
   "metadata": {},
   "outputs": [],
   "source": [
    "splits = df[\"HEADQUARTERS\"].str.rsplit(\",\",n=1,expand=True)"
   ]
  },
  {
   "cell_type": "code",
   "execution_count": 16,
   "metadata": {},
   "outputs": [],
   "source": [
    "splits2 = splits[0].str.split(\",\",n=1,expand=True)"
   ]
  },
  {
   "cell_type": "code",
   "execution_count": 17,
   "metadata": {},
   "outputs": [],
   "source": [
    "df[[\"CITY\",\"STATE/PROVINCE\"]]=splits2"
   ]
  },
  {
   "cell_type": "code",
   "execution_count": 18,
   "metadata": {},
   "outputs": [],
   "source": [
    "df[\"COUNTRY\"]=splits[1]"
   ]
  },
  {
   "cell_type": "code",
   "execution_count": 19,
   "metadata": {},
   "outputs": [
    {
     "data": {
      "text/html": [
       "<div>\n",
       "<style scoped>\n",
       "    .dataframe tbody tr th:only-of-type {\n",
       "        vertical-align: middle;\n",
       "    }\n",
       "\n",
       "    .dataframe tbody tr th {\n",
       "        vertical-align: top;\n",
       "    }\n",
       "\n",
       "    .dataframe thead th {\n",
       "        text-align: right;\n",
       "    }\n",
       "</style>\n",
       "<table border=\"1\" class=\"dataframe\">\n",
       "  <thead>\n",
       "    <tr style=\"text-align: right;\">\n",
       "      <th></th>\n",
       "      <th>NAME</th>\n",
       "      <th>WHAT IT DOES</th>\n",
       "      <th>FUNDING</th>\n",
       "      <th>YEAR FOUNDED</th>\n",
       "      <th>HEADQUARTERS</th>\n",
       "      <th>CITY</th>\n",
       "      <th>STATE/PROVINCE</th>\n",
       "      <th>COUNTRY</th>\n",
       "    </tr>\n",
       "  </thead>\n",
       "  <tbody>\n",
       "    <tr>\n",
       "      <th>0</th>\n",
       "      <td>Abridge</td>\n",
       "      <td>Medical conversation documentation</td>\n",
       "      <td>213000000</td>\n",
       "      <td>2018</td>\n",
       "      <td>Pittsburgh, Pennsylvania, United States</td>\n",
       "      <td>Pittsburgh</td>\n",
       "      <td>Pennsylvania</td>\n",
       "      <td>United States</td>\n",
       "    </tr>\n",
       "    <tr>\n",
       "      <th>1</th>\n",
       "      <td>Adept</td>\n",
       "      <td>AI model developer</td>\n",
       "      <td>415000000</td>\n",
       "      <td>2022</td>\n",
       "      <td>San Francisco, California, United States</td>\n",
       "      <td>San Francisco</td>\n",
       "      <td>California</td>\n",
       "      <td>United States</td>\n",
       "    </tr>\n",
       "    <tr>\n",
       "      <th>2</th>\n",
       "      <td>Anduril Industries</td>\n",
       "      <td>Defense software and hardware</td>\n",
       "      <td>2800000000</td>\n",
       "      <td>2017</td>\n",
       "      <td>Costa Mesa, California, United States</td>\n",
       "      <td>Costa Mesa</td>\n",
       "      <td>California</td>\n",
       "      <td>United States</td>\n",
       "    </tr>\n",
       "    <tr>\n",
       "      <th>3</th>\n",
       "      <td>Anthropic</td>\n",
       "      <td>AI model developer</td>\n",
       "      <td>7700000000</td>\n",
       "      <td>2020</td>\n",
       "      <td>San Francisco, California, United States</td>\n",
       "      <td>San Francisco</td>\n",
       "      <td>California</td>\n",
       "      <td>United States</td>\n",
       "    </tr>\n",
       "    <tr>\n",
       "      <th>4</th>\n",
       "      <td>Anyscale</td>\n",
       "      <td>AI app deployment software</td>\n",
       "      <td>259000000</td>\n",
       "      <td>2019</td>\n",
       "      <td>San Francisco, California, United States</td>\n",
       "      <td>San Francisco</td>\n",
       "      <td>California</td>\n",
       "      <td>United States</td>\n",
       "    </tr>\n",
       "  </tbody>\n",
       "</table>\n",
       "</div>"
      ],
      "text/plain": [
       "                 NAME                        WHAT IT DOES    FUNDING  \\\n",
       "0             Abridge  Medical conversation documentation  213000000   \n",
       "1               Adept                  AI model developer  415000000   \n",
       "2  Anduril Industries       Defense software and hardware 2800000000   \n",
       "3           Anthropic                  AI model developer 7700000000   \n",
       "4            Anyscale          AI app deployment software  259000000   \n",
       "\n",
       "   YEAR FOUNDED                              HEADQUARTERS           CITY  \\\n",
       "0          2018   Pittsburgh, Pennsylvania, United States     Pittsburgh   \n",
       "1          2022  San Francisco, California, United States  San Francisco   \n",
       "2          2017     Costa Mesa, California, United States     Costa Mesa   \n",
       "3          2020  San Francisco, California, United States  San Francisco   \n",
       "4          2019  San Francisco, California, United States  San Francisco   \n",
       "\n",
       "  STATE/PROVINCE         COUNTRY  \n",
       "0   Pennsylvania   United States  \n",
       "1     California   United States  \n",
       "2     California   United States  \n",
       "3     California   United States  \n",
       "4     California   United States  "
      ]
     },
     "execution_count": 19,
     "metadata": {},
     "output_type": "execute_result"
    }
   ],
   "source": [
    "df.head()"
   ]
  },
  {
   "cell_type": "code",
   "execution_count": 20,
   "metadata": {},
   "outputs": [],
   "source": [
    "df = df.drop(columns=\"HEADQUARTERS\")"
   ]
  },
  {
   "cell_type": "code",
   "execution_count": 21,
   "metadata": {},
   "outputs": [
    {
     "data": {
      "text/plain": [
       "array([['Pittsburgh', ' Pennsylvania', ' United States'],\n",
       "       ['San Francisco', ' California', ' United States'],\n",
       "       ['Costa Mesa', ' California', ' United States'],\n",
       "       ['San Francisco', ' California', ' United States'],\n",
       "       ['San Francisco', ' California', ' United States'],\n",
       "       ['San Francisco', ' California', ' United States'],\n",
       "       ['San Francisco', ' California', ' United States'],\n",
       "       ['Sunnyvale', ' California', ' United States'],\n",
       "       ['Menlo Park', ' California', ' United States'],\n",
       "       ['San Francisco', ' California', ' United States'],\n",
       "       ['Mountain View', ' California', ' United States'],\n",
       "       ['Toronto', ' Ontario', ' Canada'],\n",
       "       ['Amsterdam', None, ' Netherlands'],\n",
       "       ['Palo Alto', ' California', ' United States'],\n",
       "       ['San Francisco', ' California', ' United States'],\n",
       "       ['Cologne', None, ' Germany'],\n",
       "       ['London', None, ' United Kingdom'],\n",
       "       ['Sunnyvale', ' California', ' United States'],\n",
       "       ['Palo Alto', ' California', ' United States'],\n",
       "       ['San Francisco', ' California', ' United States'],\n",
       "       ['New York', ' New York', ' United States'],\n",
       "       ['New York', ' New York', ' United States'],\n",
       "       ['San Francisco', ' California', ' United States'],\n",
       "       ['Mountain View', ' California', ' United States'],\n",
       "       ['San Francisco', ' California', ' United States'],\n",
       "       ['Sydney', None, ' Australia'],\n",
       "       ['San Francisco', ' California', ' United States'],\n",
       "       ['Paris', None, ' France'],\n",
       "       ['San Francisco', ' California', ' United States'],\n",
       "       ['San Francisco', ' California', ' United States'],\n",
       "       ['New York', ' New York', ' United States'],\n",
       "       ['San Francisco', ' California', ' United States'],\n",
       "       ['Paris', None, ' France'],\n",
       "       ['Palo Alto', ' California', ' United States'],\n",
       "       ['New York', ' New York', ' United States'],\n",
       "       ['San Francisco', ' California', ' United States'],\n",
       "       ['San Francisco', ' California', ' United States'],\n",
       "       ['New York', ' New York', ' United States'],\n",
       "       ['Stockholm', None, ' Sweden'],\n",
       "       ['San Francisco', ' California', ' United States'],\n",
       "       ['San Francisco', ' California', ' United States'],\n",
       "       ['London', None, ' United Kingdom'],\n",
       "       ['San Francisco', ' California', ' United States'],\n",
       "       ['San Francisco', ' California', ' United States'],\n",
       "       ['Atlanta', ' Georgia', ' United States'],\n",
       "       ['Sacramento', ' California', ' United States'],\n",
       "       ['Palo Alto', ' California', ' United States'],\n",
       "       ['Toronto', ' Ontario', ' Canada'],\n",
       "       ['Amsterdam', None, ' Netherlands'],\n",
       "       ['San Francisco', ' California', ' United States']], dtype=object)"
      ]
     },
     "execution_count": 21,
     "metadata": {},
     "output_type": "execute_result"
    }
   ],
   "source": [
    "df[[\"CITY\",\"STATE/PROVINCE\",\"COUNTRY\"]].values"
   ]
  },
  {
   "cell_type": "code",
   "execution_count": 22,
   "metadata": {},
   "outputs": [],
   "source": [
    "df[\"STATE/PROVINCE\"] = df[\"STATE/PROVINCE\"].str.strip()\n",
    "df[\"COUNTRY\"] = df[\"COUNTRY\"].str.strip()"
   ]
  },
  {
   "cell_type": "code",
   "execution_count": 23,
   "metadata": {},
   "outputs": [
    {
     "data": {
      "text/plain": [
       "array([['Pennsylvania', 'United States'],\n",
       "       ['California', 'United States'],\n",
       "       ['California', 'United States'],\n",
       "       ['California', 'United States'],\n",
       "       ['California', 'United States'],\n",
       "       ['California', 'United States'],\n",
       "       ['California', 'United States'],\n",
       "       ['California', 'United States'],\n",
       "       ['California', 'United States'],\n",
       "       ['California', 'United States'],\n",
       "       ['California', 'United States'],\n",
       "       ['Ontario', 'Canada'],\n",
       "       [None, 'Netherlands'],\n",
       "       ['California', 'United States'],\n",
       "       ['California', 'United States'],\n",
       "       [None, 'Germany'],\n",
       "       [None, 'United Kingdom'],\n",
       "       ['California', 'United States'],\n",
       "       ['California', 'United States'],\n",
       "       ['California', 'United States'],\n",
       "       ['New York', 'United States'],\n",
       "       ['New York', 'United States'],\n",
       "       ['California', 'United States'],\n",
       "       ['California', 'United States'],\n",
       "       ['California', 'United States'],\n",
       "       [None, 'Australia'],\n",
       "       ['California', 'United States'],\n",
       "       [None, 'France'],\n",
       "       ['California', 'United States'],\n",
       "       ['California', 'United States'],\n",
       "       ['New York', 'United States'],\n",
       "       ['California', 'United States'],\n",
       "       [None, 'France'],\n",
       "       ['California', 'United States'],\n",
       "       ['New York', 'United States'],\n",
       "       ['California', 'United States'],\n",
       "       ['California', 'United States'],\n",
       "       ['New York', 'United States'],\n",
       "       [None, 'Sweden'],\n",
       "       ['California', 'United States'],\n",
       "       ['California', 'United States'],\n",
       "       [None, 'United Kingdom'],\n",
       "       ['California', 'United States'],\n",
       "       ['California', 'United States'],\n",
       "       ['Georgia', 'United States'],\n",
       "       ['California', 'United States'],\n",
       "       ['California', 'United States'],\n",
       "       ['Ontario', 'Canada'],\n",
       "       [None, 'Netherlands'],\n",
       "       ['California', 'United States']], dtype=object)"
      ]
     },
     "execution_count": 23,
     "metadata": {},
     "output_type": "execute_result"
    }
   ],
   "source": [
    "df[[\"STATE/PROVINCE\",\"COUNTRY\"]].values"
   ]
  },
  {
   "cell_type": "code",
   "execution_count": 24,
   "metadata": {},
   "outputs": [
    {
     "data": {
      "text/html": [
       "<div>\n",
       "<style scoped>\n",
       "    .dataframe tbody tr th:only-of-type {\n",
       "        vertical-align: middle;\n",
       "    }\n",
       "\n",
       "    .dataframe tbody tr th {\n",
       "        vertical-align: top;\n",
       "    }\n",
       "\n",
       "    .dataframe thead th {\n",
       "        text-align: right;\n",
       "    }\n",
       "</style>\n",
       "<table border=\"1\" class=\"dataframe\">\n",
       "  <thead>\n",
       "    <tr style=\"text-align: right;\">\n",
       "      <th></th>\n",
       "      <th>NAME</th>\n",
       "      <th>WHAT IT DOES</th>\n",
       "      <th>FUNDING</th>\n",
       "      <th>YEAR FOUNDED</th>\n",
       "      <th>CITY</th>\n",
       "      <th>STATE/PROVINCE</th>\n",
       "      <th>COUNTRY</th>\n",
       "    </tr>\n",
       "  </thead>\n",
       "  <tbody>\n",
       "    <tr>\n",
       "      <th>0</th>\n",
       "      <td>Abridge</td>\n",
       "      <td>Medical conversation documentation</td>\n",
       "      <td>213000000</td>\n",
       "      <td>2018</td>\n",
       "      <td>Pittsburgh</td>\n",
       "      <td>Pennsylvania</td>\n",
       "      <td>United States</td>\n",
       "    </tr>\n",
       "    <tr>\n",
       "      <th>1</th>\n",
       "      <td>Adept</td>\n",
       "      <td>AI model developer</td>\n",
       "      <td>415000000</td>\n",
       "      <td>2022</td>\n",
       "      <td>San Francisco</td>\n",
       "      <td>California</td>\n",
       "      <td>United States</td>\n",
       "    </tr>\n",
       "    <tr>\n",
       "      <th>2</th>\n",
       "      <td>Anduril Industries</td>\n",
       "      <td>Defense software and hardware</td>\n",
       "      <td>2800000000</td>\n",
       "      <td>2017</td>\n",
       "      <td>Costa Mesa</td>\n",
       "      <td>California</td>\n",
       "      <td>United States</td>\n",
       "    </tr>\n",
       "    <tr>\n",
       "      <th>3</th>\n",
       "      <td>Anthropic</td>\n",
       "      <td>AI model developer</td>\n",
       "      <td>7700000000</td>\n",
       "      <td>2020</td>\n",
       "      <td>San Francisco</td>\n",
       "      <td>California</td>\n",
       "      <td>United States</td>\n",
       "    </tr>\n",
       "    <tr>\n",
       "      <th>4</th>\n",
       "      <td>Anyscale</td>\n",
       "      <td>AI app deployment software</td>\n",
       "      <td>259000000</td>\n",
       "      <td>2019</td>\n",
       "      <td>San Francisco</td>\n",
       "      <td>California</td>\n",
       "      <td>United States</td>\n",
       "    </tr>\n",
       "  </tbody>\n",
       "</table>\n",
       "</div>"
      ],
      "text/plain": [
       "                 NAME                        WHAT IT DOES    FUNDING  \\\n",
       "0             Abridge  Medical conversation documentation  213000000   \n",
       "1               Adept                  AI model developer  415000000   \n",
       "2  Anduril Industries       Defense software and hardware 2800000000   \n",
       "3           Anthropic                  AI model developer 7700000000   \n",
       "4            Anyscale          AI app deployment software  259000000   \n",
       "\n",
       "   YEAR FOUNDED           CITY STATE/PROVINCE        COUNTRY  \n",
       "0          2018     Pittsburgh   Pennsylvania  United States  \n",
       "1          2022  San Francisco     California  United States  \n",
       "2          2017     Costa Mesa     California  United States  \n",
       "3          2020  San Francisco     California  United States  \n",
       "4          2019  San Francisco     California  United States  "
      ]
     },
     "execution_count": 24,
     "metadata": {},
     "output_type": "execute_result"
    }
   ],
   "source": [
    "df.head()"
   ]
  },
  {
   "cell_type": "code",
   "execution_count": 25,
   "metadata": {},
   "outputs": [
    {
     "ename": "PermissionError",
     "evalue": "[Errno 13] Permission denied: 'ForbesAI50_Cleaned.csv'",
     "output_type": "error",
     "traceback": [
      "\u001b[1;31m---------------------------------------------------------------------------\u001b[0m",
      "\u001b[1;31mPermissionError\u001b[0m                           Traceback (most recent call last)",
      "Cell \u001b[1;32mIn[25], line 1\u001b[0m\n\u001b[1;32m----> 1\u001b[0m \u001b[43mdf\u001b[49m\u001b[38;5;241;43m.\u001b[39;49m\u001b[43mto_csv\u001b[49m\u001b[43m(\u001b[49m\u001b[38;5;124;43m\"\u001b[39;49m\u001b[38;5;124;43mForbesAI50_Cleaned.csv\u001b[39;49m\u001b[38;5;124;43m\"\u001b[39;49m\u001b[43m,\u001b[49m\u001b[43mindex\u001b[49m\u001b[38;5;241;43m=\u001b[39;49m\u001b[38;5;28;43;01mFalse\u001b[39;49;00m\u001b[43m)\u001b[49m\n",
      "File \u001b[1;32mc:\\Users\\pancr\\AppData\\Local\\Programs\\Python\\Python311\\Lib\\site-packages\\pandas\\core\\generic.py:3902\u001b[0m, in \u001b[0;36mNDFrame.to_csv\u001b[1;34m(self, path_or_buf, sep, na_rep, float_format, columns, header, index, index_label, mode, encoding, compression, quoting, quotechar, lineterminator, chunksize, date_format, doublequote, escapechar, decimal, errors, storage_options)\u001b[0m\n\u001b[0;32m   3891\u001b[0m df \u001b[38;5;241m=\u001b[39m \u001b[38;5;28mself\u001b[39m \u001b[38;5;28;01mif\u001b[39;00m \u001b[38;5;28misinstance\u001b[39m(\u001b[38;5;28mself\u001b[39m, ABCDataFrame) \u001b[38;5;28;01melse\u001b[39;00m \u001b[38;5;28mself\u001b[39m\u001b[38;5;241m.\u001b[39mto_frame()\n\u001b[0;32m   3893\u001b[0m formatter \u001b[38;5;241m=\u001b[39m DataFrameFormatter(\n\u001b[0;32m   3894\u001b[0m     frame\u001b[38;5;241m=\u001b[39mdf,\n\u001b[0;32m   3895\u001b[0m     header\u001b[38;5;241m=\u001b[39mheader,\n\u001b[1;32m   (...)\u001b[0m\n\u001b[0;32m   3899\u001b[0m     decimal\u001b[38;5;241m=\u001b[39mdecimal,\n\u001b[0;32m   3900\u001b[0m )\n\u001b[1;32m-> 3902\u001b[0m \u001b[38;5;28;01mreturn\u001b[39;00m \u001b[43mDataFrameRenderer\u001b[49m\u001b[43m(\u001b[49m\u001b[43mformatter\u001b[49m\u001b[43m)\u001b[49m\u001b[38;5;241;43m.\u001b[39;49m\u001b[43mto_csv\u001b[49m\u001b[43m(\u001b[49m\n\u001b[0;32m   3903\u001b[0m \u001b[43m    \u001b[49m\u001b[43mpath_or_buf\u001b[49m\u001b[43m,\u001b[49m\n\u001b[0;32m   3904\u001b[0m \u001b[43m    \u001b[49m\u001b[43mlineterminator\u001b[49m\u001b[38;5;241;43m=\u001b[39;49m\u001b[43mlineterminator\u001b[49m\u001b[43m,\u001b[49m\n\u001b[0;32m   3905\u001b[0m \u001b[43m    \u001b[49m\u001b[43msep\u001b[49m\u001b[38;5;241;43m=\u001b[39;49m\u001b[43msep\u001b[49m\u001b[43m,\u001b[49m\n\u001b[0;32m   3906\u001b[0m \u001b[43m    \u001b[49m\u001b[43mencoding\u001b[49m\u001b[38;5;241;43m=\u001b[39;49m\u001b[43mencoding\u001b[49m\u001b[43m,\u001b[49m\n\u001b[0;32m   3907\u001b[0m \u001b[43m    \u001b[49m\u001b[43merrors\u001b[49m\u001b[38;5;241;43m=\u001b[39;49m\u001b[43merrors\u001b[49m\u001b[43m,\u001b[49m\n\u001b[0;32m   3908\u001b[0m \u001b[43m    \u001b[49m\u001b[43mcompression\u001b[49m\u001b[38;5;241;43m=\u001b[39;49m\u001b[43mcompression\u001b[49m\u001b[43m,\u001b[49m\n\u001b[0;32m   3909\u001b[0m \u001b[43m    \u001b[49m\u001b[43mquoting\u001b[49m\u001b[38;5;241;43m=\u001b[39;49m\u001b[43mquoting\u001b[49m\u001b[43m,\u001b[49m\n\u001b[0;32m   3910\u001b[0m \u001b[43m    \u001b[49m\u001b[43mcolumns\u001b[49m\u001b[38;5;241;43m=\u001b[39;49m\u001b[43mcolumns\u001b[49m\u001b[43m,\u001b[49m\n\u001b[0;32m   3911\u001b[0m \u001b[43m    \u001b[49m\u001b[43mindex_label\u001b[49m\u001b[38;5;241;43m=\u001b[39;49m\u001b[43mindex_label\u001b[49m\u001b[43m,\u001b[49m\n\u001b[0;32m   3912\u001b[0m \u001b[43m    \u001b[49m\u001b[43mmode\u001b[49m\u001b[38;5;241;43m=\u001b[39;49m\u001b[43mmode\u001b[49m\u001b[43m,\u001b[49m\n\u001b[0;32m   3913\u001b[0m \u001b[43m    \u001b[49m\u001b[43mchunksize\u001b[49m\u001b[38;5;241;43m=\u001b[39;49m\u001b[43mchunksize\u001b[49m\u001b[43m,\u001b[49m\n\u001b[0;32m   3914\u001b[0m \u001b[43m    \u001b[49m\u001b[43mquotechar\u001b[49m\u001b[38;5;241;43m=\u001b[39;49m\u001b[43mquotechar\u001b[49m\u001b[43m,\u001b[49m\n\u001b[0;32m   3915\u001b[0m \u001b[43m    \u001b[49m\u001b[43mdate_format\u001b[49m\u001b[38;5;241;43m=\u001b[39;49m\u001b[43mdate_format\u001b[49m\u001b[43m,\u001b[49m\n\u001b[0;32m   3916\u001b[0m \u001b[43m    \u001b[49m\u001b[43mdoublequote\u001b[49m\u001b[38;5;241;43m=\u001b[39;49m\u001b[43mdoublequote\u001b[49m\u001b[43m,\u001b[49m\n\u001b[0;32m   3917\u001b[0m \u001b[43m    \u001b[49m\u001b[43mescapechar\u001b[49m\u001b[38;5;241;43m=\u001b[39;49m\u001b[43mescapechar\u001b[49m\u001b[43m,\u001b[49m\n\u001b[0;32m   3918\u001b[0m \u001b[43m    \u001b[49m\u001b[43mstorage_options\u001b[49m\u001b[38;5;241;43m=\u001b[39;49m\u001b[43mstorage_options\u001b[49m\u001b[43m,\u001b[49m\n\u001b[0;32m   3919\u001b[0m \u001b[43m\u001b[49m\u001b[43m)\u001b[49m\n",
      "File \u001b[1;32mc:\\Users\\pancr\\AppData\\Local\\Programs\\Python\\Python311\\Lib\\site-packages\\pandas\\io\\formats\\format.py:1152\u001b[0m, in \u001b[0;36mDataFrameRenderer.to_csv\u001b[1;34m(self, path_or_buf, encoding, sep, columns, index_label, mode, compression, quoting, quotechar, lineterminator, chunksize, date_format, doublequote, escapechar, errors, storage_options)\u001b[0m\n\u001b[0;32m   1131\u001b[0m     created_buffer \u001b[38;5;241m=\u001b[39m \u001b[38;5;28;01mFalse\u001b[39;00m\n\u001b[0;32m   1133\u001b[0m csv_formatter \u001b[38;5;241m=\u001b[39m CSVFormatter(\n\u001b[0;32m   1134\u001b[0m     path_or_buf\u001b[38;5;241m=\u001b[39mpath_or_buf,\n\u001b[0;32m   1135\u001b[0m     lineterminator\u001b[38;5;241m=\u001b[39mlineterminator,\n\u001b[1;32m   (...)\u001b[0m\n\u001b[0;32m   1150\u001b[0m     formatter\u001b[38;5;241m=\u001b[39m\u001b[38;5;28mself\u001b[39m\u001b[38;5;241m.\u001b[39mfmt,\n\u001b[0;32m   1151\u001b[0m )\n\u001b[1;32m-> 1152\u001b[0m \u001b[43mcsv_formatter\u001b[49m\u001b[38;5;241;43m.\u001b[39;49m\u001b[43msave\u001b[49m\u001b[43m(\u001b[49m\u001b[43m)\u001b[49m\n\u001b[0;32m   1154\u001b[0m \u001b[38;5;28;01mif\u001b[39;00m created_buffer:\n\u001b[0;32m   1155\u001b[0m     \u001b[38;5;28;01massert\u001b[39;00m \u001b[38;5;28misinstance\u001b[39m(path_or_buf, StringIO)\n",
      "File \u001b[1;32mc:\\Users\\pancr\\AppData\\Local\\Programs\\Python\\Python311\\Lib\\site-packages\\pandas\\io\\formats\\csvs.py:247\u001b[0m, in \u001b[0;36mCSVFormatter.save\u001b[1;34m(self)\u001b[0m\n\u001b[0;32m    243\u001b[0m \u001b[38;5;250m\u001b[39m\u001b[38;5;124;03m\"\"\"\u001b[39;00m\n\u001b[0;32m    244\u001b[0m \u001b[38;5;124;03mCreate the writer & save.\u001b[39;00m\n\u001b[0;32m    245\u001b[0m \u001b[38;5;124;03m\"\"\"\u001b[39;00m\n\u001b[0;32m    246\u001b[0m \u001b[38;5;66;03m# apply compression and byte/text conversion\u001b[39;00m\n\u001b[1;32m--> 247\u001b[0m \u001b[38;5;28;01mwith\u001b[39;00m \u001b[43mget_handle\u001b[49m\u001b[43m(\u001b[49m\n\u001b[0;32m    248\u001b[0m \u001b[43m    \u001b[49m\u001b[38;5;28;43mself\u001b[39;49m\u001b[38;5;241;43m.\u001b[39;49m\u001b[43mfilepath_or_buffer\u001b[49m\u001b[43m,\u001b[49m\n\u001b[0;32m    249\u001b[0m \u001b[43m    \u001b[49m\u001b[38;5;28;43mself\u001b[39;49m\u001b[38;5;241;43m.\u001b[39;49m\u001b[43mmode\u001b[49m\u001b[43m,\u001b[49m\n\u001b[0;32m    250\u001b[0m \u001b[43m    \u001b[49m\u001b[43mencoding\u001b[49m\u001b[38;5;241;43m=\u001b[39;49m\u001b[38;5;28;43mself\u001b[39;49m\u001b[38;5;241;43m.\u001b[39;49m\u001b[43mencoding\u001b[49m\u001b[43m,\u001b[49m\n\u001b[0;32m    251\u001b[0m \u001b[43m    \u001b[49m\u001b[43merrors\u001b[49m\u001b[38;5;241;43m=\u001b[39;49m\u001b[38;5;28;43mself\u001b[39;49m\u001b[38;5;241;43m.\u001b[39;49m\u001b[43merrors\u001b[49m\u001b[43m,\u001b[49m\n\u001b[0;32m    252\u001b[0m \u001b[43m    \u001b[49m\u001b[43mcompression\u001b[49m\u001b[38;5;241;43m=\u001b[39;49m\u001b[38;5;28;43mself\u001b[39;49m\u001b[38;5;241;43m.\u001b[39;49m\u001b[43mcompression\u001b[49m\u001b[43m,\u001b[49m\n\u001b[0;32m    253\u001b[0m \u001b[43m    \u001b[49m\u001b[43mstorage_options\u001b[49m\u001b[38;5;241;43m=\u001b[39;49m\u001b[38;5;28;43mself\u001b[39;49m\u001b[38;5;241;43m.\u001b[39;49m\u001b[43mstorage_options\u001b[49m\u001b[43m,\u001b[49m\n\u001b[0;32m    254\u001b[0m \u001b[43m\u001b[49m\u001b[43m)\u001b[49m \u001b[38;5;28;01mas\u001b[39;00m handles:\n\u001b[0;32m    255\u001b[0m     \u001b[38;5;66;03m# Note: self.encoding is irrelevant here\u001b[39;00m\n\u001b[0;32m    256\u001b[0m     \u001b[38;5;28mself\u001b[39m\u001b[38;5;241m.\u001b[39mwriter \u001b[38;5;241m=\u001b[39m csvlib\u001b[38;5;241m.\u001b[39mwriter(\n\u001b[0;32m    257\u001b[0m         handles\u001b[38;5;241m.\u001b[39mhandle,\n\u001b[0;32m    258\u001b[0m         lineterminator\u001b[38;5;241m=\u001b[39m\u001b[38;5;28mself\u001b[39m\u001b[38;5;241m.\u001b[39mlineterminator,\n\u001b[1;32m   (...)\u001b[0m\n\u001b[0;32m    263\u001b[0m         quotechar\u001b[38;5;241m=\u001b[39m\u001b[38;5;28mself\u001b[39m\u001b[38;5;241m.\u001b[39mquotechar,\n\u001b[0;32m    264\u001b[0m     )\n\u001b[0;32m    266\u001b[0m     \u001b[38;5;28mself\u001b[39m\u001b[38;5;241m.\u001b[39m_save()\n",
      "File \u001b[1;32mc:\\Users\\pancr\\AppData\\Local\\Programs\\Python\\Python311\\Lib\\site-packages\\pandas\\io\\common.py:863\u001b[0m, in \u001b[0;36mget_handle\u001b[1;34m(path_or_buf, mode, encoding, compression, memory_map, is_text, errors, storage_options)\u001b[0m\n\u001b[0;32m    858\u001b[0m \u001b[38;5;28;01melif\u001b[39;00m \u001b[38;5;28misinstance\u001b[39m(handle, \u001b[38;5;28mstr\u001b[39m):\n\u001b[0;32m    859\u001b[0m     \u001b[38;5;66;03m# Check whether the filename is to be opened in binary mode.\u001b[39;00m\n\u001b[0;32m    860\u001b[0m     \u001b[38;5;66;03m# Binary mode does not support 'encoding' and 'newline'.\u001b[39;00m\n\u001b[0;32m    861\u001b[0m     \u001b[38;5;28;01mif\u001b[39;00m ioargs\u001b[38;5;241m.\u001b[39mencoding \u001b[38;5;129;01mand\u001b[39;00m \u001b[38;5;124m\"\u001b[39m\u001b[38;5;124mb\u001b[39m\u001b[38;5;124m\"\u001b[39m \u001b[38;5;129;01mnot\u001b[39;00m \u001b[38;5;129;01min\u001b[39;00m ioargs\u001b[38;5;241m.\u001b[39mmode:\n\u001b[0;32m    862\u001b[0m         \u001b[38;5;66;03m# Encoding\u001b[39;00m\n\u001b[1;32m--> 863\u001b[0m         handle \u001b[38;5;241m=\u001b[39m \u001b[38;5;28;43mopen\u001b[39;49m\u001b[43m(\u001b[49m\n\u001b[0;32m    864\u001b[0m \u001b[43m            \u001b[49m\u001b[43mhandle\u001b[49m\u001b[43m,\u001b[49m\n\u001b[0;32m    865\u001b[0m \u001b[43m            \u001b[49m\u001b[43mioargs\u001b[49m\u001b[38;5;241;43m.\u001b[39;49m\u001b[43mmode\u001b[49m\u001b[43m,\u001b[49m\n\u001b[0;32m    866\u001b[0m \u001b[43m            \u001b[49m\u001b[43mencoding\u001b[49m\u001b[38;5;241;43m=\u001b[39;49m\u001b[43mioargs\u001b[49m\u001b[38;5;241;43m.\u001b[39;49m\u001b[43mencoding\u001b[49m\u001b[43m,\u001b[49m\n\u001b[0;32m    867\u001b[0m \u001b[43m            \u001b[49m\u001b[43merrors\u001b[49m\u001b[38;5;241;43m=\u001b[39;49m\u001b[43merrors\u001b[49m\u001b[43m,\u001b[49m\n\u001b[0;32m    868\u001b[0m \u001b[43m            \u001b[49m\u001b[43mnewline\u001b[49m\u001b[38;5;241;43m=\u001b[39;49m\u001b[38;5;124;43m\"\u001b[39;49m\u001b[38;5;124;43m\"\u001b[39;49m\u001b[43m,\u001b[49m\n\u001b[0;32m    869\u001b[0m \u001b[43m        \u001b[49m\u001b[43m)\u001b[49m\n\u001b[0;32m    870\u001b[0m     \u001b[38;5;28;01melse\u001b[39;00m:\n\u001b[0;32m    871\u001b[0m         \u001b[38;5;66;03m# Binary mode\u001b[39;00m\n\u001b[0;32m    872\u001b[0m         handle \u001b[38;5;241m=\u001b[39m \u001b[38;5;28mopen\u001b[39m(handle, ioargs\u001b[38;5;241m.\u001b[39mmode)\n",
      "\u001b[1;31mPermissionError\u001b[0m: [Errno 13] Permission denied: 'ForbesAI50_Cleaned.csv'"
     ]
    }
   ],
   "source": [
    "df.to_csv(\"ForbesAI50_Cleaned.csv\",index=False)"
   ]
  }
 ],
 "metadata": {
  "kernelspec": {
   "display_name": "Python 3",
   "language": "python",
   "name": "python3"
  },
  "language_info": {
   "codemirror_mode": {
    "name": "ipython",
    "version": 3
   },
   "file_extension": ".py",
   "mimetype": "text/x-python",
   "name": "python",
   "nbconvert_exporter": "python",
   "pygments_lexer": "ipython3",
   "version": "3.11.4"
  }
 },
 "nbformat": 4,
 "nbformat_minor": 2
}
